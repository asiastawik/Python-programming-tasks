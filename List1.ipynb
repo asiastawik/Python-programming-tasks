{
 "cells": [
  {
   "cell_type": "code",
   "execution_count": 1,
   "id": "d798e988",
   "metadata": {},
   "outputs": [
    {
     "name": "stdout",
     "output_type": "stream",
     "text": [
      "Asia\n",
      "254912\n",
      "127456.0\n",
      "84970.66666666667\n",
      "14\n",
      "23\n",
      "2 4 9\n",
      "Duplicate numbers:  2\n",
      "Different numbers:  2 5 4 9 1\n",
      "Even numbers:  2 4 2\n",
      "Odd numbers:  5 9 1\n",
      "Day:  24\n"
     ]
    }
   ],
   "source": [
    "#1\n",
    "name = 'Asia'\n",
    "ID = 254912\n",
    "print(name)\n",
    "print(ID)\n",
    "print(ID/2)\n",
    "print(ID/3)\n",
    "print(ID%2023)\n",
    "\n",
    "#2\n",
    "ID_list = [2, 5, 4, 9, 1, 2]\n",
    "print(sum(ID_list))\n",
    "print(ID_list[0], ID_list[2], ID_list[3])\n",
    "ID_duplicate = []\n",
    "ID_diff = []\n",
    "\n",
    "ID_odd = []\n",
    "ID_even = []\n",
    "for i in ID_list:\n",
    "    if i not in ID_diff:\n",
    "        ID_diff.append(i)\n",
    "    else:\n",
    "        ID_duplicate.append(i)\n",
    "\n",
    "for i in ID_list:\n",
    "    if i == 0:\n",
    "        ID_even.append(i)\n",
    "        ID_odd.append(i)\n",
    "    elif (i%2 == 0):\n",
    "        ID_even.append(i)\n",
    "    else:\n",
    "        ID_odd.append(i)\n",
    "\n",
    "print('Duplicate numbers: ', ' '.join(map(str, ID_duplicate)))\n",
    "print('Different numbers: ', ' '.join(map(str, ID_diff)))\n",
    "\n",
    "print('Even numbers: ', ' '.join(map(str, ID_even)))\n",
    "print('Odd numbers: ', ' '.join(map(str, ID_odd)))\n",
    "\n",
    "#3\n",
    "birthday = [24, 'March', 2000]\n",
    "if birthday[1] == 'Jan' or birthday[1] == 'Feb':\n",
    "    print(birthday[1])\n",
    "elif (birthday[0]%2 == 0):\n",
    "    print('Day: ', birthday[0])\n",
    "else:\n",
    "    print('Year: ', birthday[2])\n"
   ]
  },
  {
   "cell_type": "code",
   "execution_count": 18,
   "id": "d198a39e",
   "metadata": {},
   "outputs": [
    {
     "name": "stdout",
     "output_type": "stream",
     "text": [
      "25.63\n",
      "7\n"
     ]
    }
   ],
   "source": [
    "#4\n",
    "list_a = [1, 2, 3, 4, 5, 8.4, 2.23]\n",
    "list_b = ['1', 2, 5, '8.8', '2']\n",
    "\n",
    "def checking(list):\n",
    "\n",
    "    new_list = []\n",
    "    for i in list:\n",
    "        number = isinstance(i, (int, float))\n",
    "        if number is True:\n",
    "            new_list.append(i)\n",
    "            #print(new_list)\n",
    "        else:\n",
    "            continue\n",
    "    \n",
    "    print(sum(new_list))\n",
    "    \n",
    "\n",
    "checking(list_a)\n",
    "checking(list_b)"
   ]
  },
  {
   "cell_type": "code",
   "execution_count": 81,
   "id": "0ce0f707",
   "metadata": {},
   "outputs": [
    {
     "name": "stdout",
     "output_type": "stream",
     "text": [
      "Print prime numbers from 1 to N, enter N: \n",
      "1000\n",
      "2 3 5 7 11 13 17 19 23 29 31 37 41 43 47 53 59 61 67 71 73 79 83 89 97 101 103 107 109 113 127 131 137 139 149 151 157 163 167 173 179 181 191 193 197 199 211 223 227 229 233 239 241 251 257 263 269 271 277 281 283 293 307 311 313 317 331 337 347 349 353 359 367 373 379 383 389 397 401 409 419 421 431 433 439 443 449 457 461 463 467 479 487 491 499 503 509 521 523 541 547 557 563 569 571 577 587 593 599 601 607 613 617 619 631 641 643 647 653 659 661 673 677 683 691 701 709 719 727 733 739 743 751 757 761 769 773 787 797 809 811 821 823 827 829 839 853 857 859 863 877 881 883 887 907 911 919 929 937 941 947 953 967 971 977 983 991 997 "
     ]
    }
   ],
   "source": [
    "#5\n",
    "def isPrime(n):\n",
    "    if (n==1 or n==0):\n",
    "        return False\n",
    "    \n",
    "    # loop from 2 to n-1\n",
    "    # without n+1 => N, because every number divide by itself\n",
    "    for i in range(2, n):\n",
    "        if(n%i==0):\n",
    "            return False\n",
    "    # number first must exit the for loop    \n",
    "    return True\n",
    "        \n",
    "print('Print prime numbers from 1 to N, enter N: ')\n",
    "N = input()\n",
    "N_number = N.isnumeric()\n",
    "while N_number is False:\n",
    "    print('Please enter number!')\n",
    "    N = input()\n",
    "    N_number = N.isnumeric()\n",
    "else:\n",
    "    # loop from 1 to N\n",
    "    for i in range(1, int(N)+1):\n",
    "        if(isPrime(i)):\n",
    "            print(i, end=\" \")\n",
    "    "
   ]
  },
  {
   "cell_type": "code",
   "execution_count": null,
   "id": "21f122a9",
   "metadata": {},
   "outputs": [],
   "source": []
  },
  {
   "cell_type": "code",
   "execution_count": null,
   "id": "3542bd37",
   "metadata": {},
   "outputs": [],
   "source": []
  }
 ],
 "metadata": {
  "celltoolbar": "Slideshow",
  "kernelspec": {
   "display_name": "Python 3 (ipykernel)",
   "language": "python",
   "name": "python3"
  },
  "language_info": {
   "codemirror_mode": {
    "name": "ipython",
    "version": 3
   },
   "file_extension": ".py",
   "mimetype": "text/x-python",
   "name": "python",
   "nbconvert_exporter": "python",
   "pygments_lexer": "ipython3",
   "version": "3.9.13"
  }
 },
 "nbformat": 4,
 "nbformat_minor": 5
}
